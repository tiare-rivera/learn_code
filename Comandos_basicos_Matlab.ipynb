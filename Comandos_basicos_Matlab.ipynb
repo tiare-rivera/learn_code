{
 "cells": [
  {
   "cell_type": "markdown",
   "metadata": {},
   "source": [
    "<center> <h1>Comandos básicos Matlab: Lección 1 </h1> </center>"
   ]
  },
  {
   "cell_type": "markdown",
   "metadata": {},
   "source": [
    "<img src=\"https://www.userlogos.org/files/logos/Gmacri/Matlab.jpg\" alt=\"Matlab\" title=\"Comandos básicos Matlab\" />"
   ]
  },
  {
   "cell_type": "markdown",
   "metadata": {},
   "source": [
    "    Vamos a realizar un repaso rápido de sentencias lógicas:"
   ]
  },
  {
   "cell_type": "code",
   "execution_count": 13,
   "metadata": {
    "collapsed": true
   },
   "outputs": [
    {
     "name": "stdout",
     "output_type": "stream",
     "text": [
      "\n",
      "ans =\n",
      "\n",
      "  logical\n",
      "\n",
      "   0\n",
      "\n",
      "\n"
     ]
    }
   ],
   "source": [
    "1 == 2 % falso se representa con cero"
   ]
  },
  {
   "cell_type": "code",
   "execution_count": 11,
   "metadata": {
    "scrolled": false
   },
   "outputs": [
    {
     "name": "stdout",
     "output_type": "stream",
     "text": [
      "\n"
     ]
    }
   ],
   "source": [
    "1 ~= 2 %el verdadero se representa con uno y el \"no igual\" con ~="
   ]
  },
  {
   "cell_type": "code",
   "execution_count": null,
   "metadata": {},
   "outputs": [],
   "source": [
    "1 && 0 %indica AND, la sentencia es falsa, será cero"
   ]
  },
  {
   "cell_type": "code",
   "execution_count": 14,
   "metadata": {
    "collapsed": true
   },
   "outputs": [
    {
     "name": "stdout",
     "output_type": "stream",
     "text": [
      "\n",
      "ans =\n",
      "\n",
      "  logical\n",
      "\n",
      "   1\n",
      "\n",
      "\n"
     ]
    }
   ],
   "source": [
    "1 || 0 %indica OR, la sentencia es verdadera, será uno"
   ]
  },
  {
   "cell_type": "markdown",
   "metadata": {},
   "source": [
    "# Variables"
   ]
  },
  {
   "cell_type": "code",
   "execution_count": 56,
   "metadata": {
    "collapsed": true
   },
   "outputs": [
    {
     "name": "stdout",
     "output_type": "stream",
     "text": [
      "\n",
      "b =\n",
      "\n",
      "    3.1416\n",
      "\n",
      "3 decimales: 3.142\n",
      "\n"
     ]
    }
   ],
   "source": [
    "b = pi\n",
    "disp(sprintf('3 decimales: %0.3f', b))"
   ]
  },
  {
   "cell_type": "markdown",
   "metadata": {},
   "source": [
    "# Matrices y Vectores"
   ]
  },
  {
   "cell_type": "code",
   "execution_count": null,
   "metadata": {},
   "outputs": [],
   "source": [
    "Haremos una matriz de 3 filas por 2 columnas (3x2)"
   ]
  },
  {
   "cell_type": "code",
   "execution_count": 2,
   "metadata": {},
   "outputs": [
    {
     "name": "stdout",
     "output_type": "stream",
     "text": [
      "\n",
      "A =\n",
      "\n",
      "     1     2\n",
      "     3     4\n",
      "     5     6\n",
      "\n",
      "\n"
     ]
    }
   ],
   "source": [
    "A=[1 2;\n",
    "3 4;\n",
    "5 6\n",
    "]"
   ]
  },
  {
   "cell_type": "code",
   "execution_count": 42,
   "metadata": {},
   "outputs": [
    {
     "name": "stdout",
     "output_type": "stream",
     "text": [
      "\n",
      "v =\n",
      "\n",
      "     1     2     3\n",
      "\n",
      "\n"
     ]
    }
   ],
   "source": [
    "v = [1 2 3]"
   ]
  },
  {
   "cell_type": "markdown",
   "metadata": {},
   "source": [
    "También podemos hacer incrementos en los vectores. Ej: comience en 1, termine en 2 e incremente de 0.1"
   ]
  },
  {
   "cell_type": "code",
   "execution_count": 27,
   "metadata": {
    "collapsed": true
   },
   "outputs": [
    {
     "name": "stdout",
     "output_type": "stream",
     "text": [
      "\n",
      "w =\n",
      "\n",
      "    1.0000    1.1000    1.2000    1.3000    1.4000    1.5000    1.6000    1.7000    1.8000    1.9000    2.0000\n",
      "\n",
      "\n"
     ]
    }
   ],
   "source": [
    "w = 1:0.1:2"
   ]
  },
  {
   "cell_type": "code",
   "execution_count": 28,
   "metadata": {
    "collapsed": true
   },
   "outputs": [
    {
     "name": "stdout",
     "output_type": "stream",
     "text": [
      "\n",
      "m =\n",
      "\n",
      "     1     1     1\n",
      "     1     1     1\n",
      "\n",
      "\n"
     ]
    }
   ],
   "source": [
    "m = ones(2,3) % es una matriz de unos con 2 filas 3 columnas"
   ]
  },
  {
   "cell_type": "code",
   "execution_count": 29,
   "metadata": {
    "collapsed": true
   },
   "outputs": [
    {
     "name": "stdout",
     "output_type": "stream",
     "text": [
      "\n",
      "n =\n",
      "\n",
      "     2     2     2\n",
      "     2     2     2\n",
      "\n",
      "\n"
     ]
    }
   ],
   "source": [
    "n = 2*ones(2,3) %genera una matriz de doces de dimensión 2x3"
   ]
  },
  {
   "cell_type": "code",
   "execution_count": 31,
   "metadata": {
    "collapsed": true
   },
   "outputs": [
    {
     "name": "stdout",
     "output_type": "stream",
     "text": [
      "\n",
      "o =\n",
      "\n",
      "    0.8147    0.9134    0.2785\n",
      "    0.9058    0.6324    0.5469\n",
      "    0.1270    0.0975    0.9575\n",
      "\n",
      "\n"
     ]
    }
   ],
   "source": [
    "o = rand(3,3) %crea una matriz de números aleatorios de 3x3"
   ]
  },
  {
   "cell_type": "code",
   "execution_count": 32,
   "metadata": {
    "collapsed": true
   },
   "outputs": [
    {
     "name": "stdout",
     "output_type": "stream",
     "text": [
      "\n",
      "i =\n",
      "\n",
      "     1     0     0     0     0\n",
      "     0     1     0     0     0\n",
      "     0     0     1     0     0\n",
      "     0     0     0     1     0\n",
      "     0     0     0     0     1\n",
      "\n",
      "\n"
     ]
    }
   ],
   "source": [
    "i = eye(5) %Crea una matriz identidad de nxn"
   ]
  },
  {
   "cell_type": "markdown",
   "metadata": {},
   "source": [
    "Volvemos a la matriz A para revisar su tamaño, son el comando size"
   ]
  },
  {
   "cell_type": "code",
   "execution_count": 6,
   "metadata": {
    "collapsed": true
   },
   "outputs": [
    {
     "name": "stdout",
     "output_type": "stream",
     "text": [
      "\n",
      "ans =\n",
      "\n",
      "     3     2\n",
      "\n",
      "\n"
     ]
    }
   ],
   "source": [
    "size(A) %nos entrega un vector que indica las 3 filas y las 2 columnas"
   ]
  },
  {
   "cell_type": "markdown",
   "metadata": {},
   "source": [
    "También podemos guardar los resultados del tamaño en una matriz"
   ]
  },
  {
   "cell_type": "code",
   "execution_count": 5,
   "metadata": {
    "collapsed": true
   },
   "outputs": [
    {
     "name": "stdout",
     "output_type": "stream",
     "text": [
      "\n",
      "sz =\n",
      "\n",
      "     3     2\n",
      "\n",
      "\n"
     ]
    }
   ],
   "source": [
    "sz = size(A) %guardará una matriz de 1 fila con 2 columnas que contiene el tamaño|"
   ]
  },
  {
   "cell_type": "code",
   "execution_count": 7,
   "metadata": {
    "collapsed": true
   },
   "outputs": [
    {
     "name": "stdout",
     "output_type": "stream",
     "text": [
      "\n",
      "ans =\n",
      "\n",
      "     1     2\n",
      "\n",
      "\n"
     ]
    }
   ],
   "source": [
    "size(sz)"
   ]
  },
  {
   "cell_type": "code",
   "execution_count": 10,
   "metadata": {
    "collapsed": true
   },
   "outputs": [
    {
     "name": "stdout",
     "output_type": "stream",
     "text": [
      "\n",
      "ans =\n",
      "\n",
      "     3\n",
      "\n",
      "\n",
      "ans =\n",
      "\n",
      "     2\n",
      "\n",
      "\n"
     ]
    }
   ],
   "source": [
    "size(A,1) % 1 te entrega el valor de las filas de la matriz A\n",
    "size(A,2) % 2 te entrega el valor de las columnas de la matriz A"
   ]
  },
  {
   "cell_type": "code",
   "execution_count": 14,
   "metadata": {
    "collapsed": true
   },
   "outputs": [
    {
     "name": "stdout",
     "output_type": "stream",
     "text": [
      "\n",
      "ans =\n",
      "\n",
      "     3\n",
      "\n",
      "\n"
     ]
    }
   ],
   "source": [
    "length(A) % te da el tamaño de la dimension mas larga"
   ]
  },
  {
   "cell_type": "code",
   "execution_count": 15,
   "metadata": {
    "collapsed": true
   },
   "outputs": [
    {
     "name": "stdout",
     "output_type": "stream",
     "text": [
      "\n",
      "ans =\n",
      "\n",
      "    'C:\\Users\\Pedro\\Dropbox\\A_Coursera_SENCE\\Exercises_all\\ex1\\Comandos\\venv'\n",
      "\n",
      "\n"
     ]
    }
   ],
   "source": [
    "pwd % dice cual es el directorio actual"
   ]
  },
  {
   "cell_type": "code",
   "execution_count": 57,
   "metadata": {
    "collapsed": true
   },
   "outputs": [
    {
     "name": "stdout",
     "output_type": "stream",
     "text": [
      "\n",
      "Your variables are:\n",
      "\n",
      "A    A_a  C    D    E    F    G    H    I    ans  b    sz   u    uu   v    \n",
      "\n",
      "\n"
     ]
    }
   ],
   "source": [
    "who % Muestra las variables que tengo almacenadas"
   ]
  },
  {
   "cell_type": "code",
   "execution_count": 58,
   "metadata": {
    "collapsed": true
   },
   "outputs": [
    {
     "name": "stdout",
     "output_type": "stream",
     "text": [
      "  Name      Size            Bytes  Class     Attributes\n",
      "\n",
      "  A         3x3                72  double              \n",
      "  A_a       2x4                64  double              \n",
      "  C         2x3                48  double              \n",
      "  D         2x3                48  double              \n",
      "  E         2x6                96  double              \n",
      "  F         4x3                96  double              \n",
      "  G         3x2                48  double              \n",
      "  H         3x2                48  double              \n",
      "  I         2x2                32  double              \n",
      "  ans       3x1                24  double              \n",
      "  b         1x1                 8  double              \n",
      "  sz        1x2                16  double              \n",
      "  u         1x3                24  double              \n",
      "  uu        3x1                24  double              \n",
      "  v         1x3                24  double              \n",
      "\n",
      "\n"
     ]
    }
   ],
   "source": [
    "whos % más detalle incluyendo cuantos bits de información toma la variable, su clase y atributos"
   ]
  },
  {
   "cell_type": "markdown",
   "metadata": {},
   "source": [
    "## Selección de un elemento"
   ]
  },
  {
   "cell_type": "code",
   "execution_count": 75,
   "metadata": {},
   "outputs": [
    {
     "name": "stdout",
     "output_type": "stream",
     "text": [
      "\n",
      "ans =\n",
      "\n",
      "    1.7918\n",
      "\n",
      "\n"
     ]
    }
   ],
   "source": [
    "A(3,2)  % Te entrega el valor de la posición fila 3 columna 2 = 6"
   ]
  },
  {
   "cell_type": "code",
   "execution_count": 21,
   "metadata": {
    "collapsed": true
   },
   "outputs": [
    {
     "name": "stdout",
     "output_type": "stream",
     "text": [
      "\n",
      "ans =\n",
      "\n",
      "     3     4\n",
      "\n",
      "\n",
      "ans =\n",
      "\n",
      "     2\n",
      "     4\n",
      "     6\n",
      "\n",
      "\n"
     ]
    }
   ],
   "source": [
    "A(2,:) % Todo lo que está en la segunda fila\n",
    "A(:,2) % Todo lo que está en la segunda columna"
   ]
  },
  {
   "cell_type": "code",
   "execution_count": 22,
   "metadata": {
    "collapsed": true
   },
   "outputs": [
    {
     "name": "stdout",
     "output_type": "stream",
     "text": [
      "\n",
      "ans =\n",
      "\n",
      "     1     2\n",
      "     5     6\n",
      "\n",
      "\n"
     ]
    }
   ],
   "source": [
    "A([1,3], :) %antes de la coma son indicaciones de fila. En este caso, traer la 1° y 3° fila. Después de la coma, todas las columnas"
   ]
  },
  {
   "cell_type": "code",
   "execution_count": 74,
   "metadata": {},
   "outputs": [
    {
     "name": "stderr",
     "output_type": "stream",
     "text": [
      "\u001b[1;31mUnable to perform assignment because the size of the left side is 7-by-1 and the size of the right side is 3-by-1.\n",
      "\n",
      "\u001b[0m"
     ]
    },
    {
     "ename": "Error",
     "evalue": -1,
     "output_type": "error",
     "traceback": "Unable to perform assignment because the size of the left side is 7-by-1 and the size of the right side is 3-by-1.\n"
    }
   ],
   "source": [
    "A(:,2) = [10; 11; 12] % Reemplazo la segunda columna"
   ]
  },
  {
   "cell_type": "code",
   "execution_count": 68,
   "metadata": {
    "collapsed": true
   },
   "outputs": [
    {
     "name": "stdout",
     "output_type": "stream",
     "text": [
      "\n",
      "A =\n",
      "\n",
      "     1    10   100   100   200\n",
      "     3    11   101   101   201\n",
      "     5    12   102   102   202\n",
      "\n",
      "\n"
     ]
    }
   ],
   "source": [
    "A = [A, [200; 201; 202]] % Agrega una columna (append)"
   ]
  },
  {
   "cell_type": "code",
   "execution_count": 30,
   "metadata": {
    "collapsed": true
   },
   "outputs": [
    {
     "name": "stdout",
     "output_type": "stream",
     "text": [
      "\n",
      "A_a =\n",
      "\n",
      "     1     5     3     7\n",
      "     9    10    19    22\n",
      "\n",
      "\n"
     ]
    }
   ],
   "source": [
    "B = [1 5 3 7; 9 10 19 22]"
   ]
  },
  {
   "cell_type": "code",
   "execution_count": 31,
   "metadata": {
    "collapsed": true
   },
   "outputs": [
    {
     "name": "stdout",
     "output_type": "stream",
     "text": [
      "\n",
      "ans =\n",
      "\n",
      "     1\n",
      "     9\n",
      "     5\n",
      "    10\n",
      "     3\n",
      "    19\n",
      "     7\n",
      "    22\n",
      "\n",
      "\n"
     ]
    }
   ],
   "source": [
    "B(:) %poner todos los elementos de A en un solo vector"
   ]
  },
  {
   "cell_type": "code",
   "execution_count": 33,
   "metadata": {
    "collapsed": true
   },
   "outputs": [
    {
     "name": "stdout",
     "output_type": "stream",
     "text": [
      "\n",
      "E =\n",
      "\n",
      "     4     7     3     1     4     2\n",
      "     2     8     4     4     8     7\n",
      "\n",
      "\n",
      "F =\n",
      "\n",
      "     4     7     3\n",
      "     2     8     4\n",
      "     1     4     2\n",
      "     4     8     7\n",
      "\n",
      "\n"
     ]
    }
   ],
   "source": [
    "C = [4 7 3; 2 8 4];\n",
    "D = [1 4 2; 4 8 7];\n",
    "E = [C D]  % Une amabas matrices hacia al lado\n",
    "F = [C;D] % Une por debajo, también puede ser por coma"
   ]
  },
  {
   "cell_type": "markdown",
   "metadata": {},
   "source": [
    "## Operaciones"
   ]
  },
  {
   "cell_type": "code",
   "execution_count": 37,
   "metadata": {
    "collapsed": true
   },
   "outputs": [
    {
     "name": "stdout",
     "output_type": "stream",
     "text": [
      "\n",
      "ans =\n",
      "\n",
      "     7    10\n",
      "    15    22\n",
      "    23    34\n",
      "\n",
      "\n"
     ]
    }
   ],
   "source": [
    "G = [1 2; 3 4; 5 6];\n",
    "H = [11 12; 13 14; 15 16];\n",
    "I = [1 2; 3 4];\n",
    "\n",
    "G_I = G * I % multiplicacion de G_3x2 con I_2x2 resultado: 3x2"
   ]
  },
  {
   "cell_type": "code",
   "execution_count": 38,
   "metadata": {
    "collapsed": true
   },
   "outputs": [
    {
     "name": "stdout",
     "output_type": "stream",
     "text": [
      "\n",
      "ans =\n",
      "\n",
      "    11    24\n",
      "    39    56\n",
      "    75    96\n",
      "\n",
      "\n"
     ]
    }
   ],
   "source": [
    "G .* H %Multiplicacion elemento a elemento"
   ]
  },
  {
   "cell_type": "code",
   "execution_count": 40,
   "metadata": {
    "collapsed": true
   },
   "outputs": [
    {
     "name": "stdout",
     "output_type": "stream",
     "text": [
      "\n",
      "ans =\n",
      "\n",
      "     1     4\n",
      "     9    16\n",
      "\n",
      "\n"
     ]
    }
   ],
   "source": [
    "I .^ 2 % me da el cuadrado de cada elemento"
   ]
  },
  {
   "cell_type": "markdown",
   "metadata": {},
   "source": [
    "### Recíproco o inversa"
   ]
  },
  {
   "cell_type": "code",
   "execution_count": 44,
   "metadata": {
    "collapsed": true
   },
   "outputs": [
    {
     "name": "stdout",
     "output_type": "stream",
     "text": [
      "\n",
      "u =\n",
      "\n",
      "     2     4     8\n",
      "\n",
      "\n",
      "ans =\n",
      "\n",
      "    0.5000    0.2500    0.1250\n",
      "\n",
      "\n"
     ]
    }
   ],
   "source": [
    "u = [2 4 8]\n",
    "1 ./u %muestra el recíproco 1/2, 1/4, 1/8"
   ]
  },
  {
   "cell_type": "code",
   "execution_count": 45,
   "metadata": {
    "collapsed": true
   },
   "outputs": [
    {
     "name": "stdout",
     "output_type": "stream",
     "text": [
      "\n",
      "ans =\n",
      "\n",
      "    1.0000    0.1000    0.0100\n",
      "    0.3333    0.0909    0.0099\n",
      "    0.2000    0.0833    0.0098\n",
      "\n",
      "\n"
     ]
    }
   ],
   "source": [
    "1 ./ A %Lo mismo para la matriz A"
   ]
  },
  {
   "cell_type": "markdown",
   "metadata": {},
   "source": [
    "### Otras operaciones"
   ]
  },
  {
   "cell_type": "code",
   "execution_count": 48,
   "metadata": {
    "collapsed": true
   },
   "outputs": [
    {
     "name": "stdout",
     "output_type": "stream",
     "text": [
      "\n",
      "ans =\n",
      "\n",
      "    0.6931    1.3863    2.0794\n",
      "\n",
      "\n",
      "ans =\n",
      "\n",
      "   1.0e+03 *\n",
      "\n",
      "    0.0074    0.0546    2.9810\n",
      "\n",
      "\n",
      "ans =\n",
      "\n",
      "     2     4     8\n",
      "\n",
      "\n",
      "ans =\n",
      "\n",
      "    -2    -4    -8\n",
      "\n",
      "\n"
     ]
    }
   ],
   "source": [
    "log(u) %logaritmo\n",
    "exp(u) %exponencial\n",
    "abs(u) % valor absoluto)\n",
    "-u % negativo de cada elemento"
   ]
  },
  {
   "cell_type": "markdown",
   "metadata": {},
   "source": [
    "Sumar un elemento a cada vector paso a paso"
   ]
  },
  {
   "cell_type": "code",
   "execution_count": 60,
   "metadata": {
    "collapsed": true
   },
   "outputs": [
    {
     "name": "stdout",
     "output_type": "stream",
     "text": [
      "\n",
      "uu =\n",
      "\n",
      "     2\n",
      "     4\n",
      "     8\n",
      "\n",
      "\n",
      "ans =\n",
      "\n",
      "     3\n",
      "\n",
      "\n",
      "ans =\n",
      "\n",
      "     1\n",
      "     1\n",
      "     1\n",
      "\n",
      "\n",
      "ans =\n",
      "\n",
      "     3\n",
      "     5\n",
      "     9\n",
      "\n",
      "\n",
      "ans =\n",
      "\n",
      "     3\n",
      "     5\n",
      "     9\n",
      "\n",
      "\n"
     ]
    }
   ],
   "source": [
    "uu = [2; 4; 8]           %vector de ejemplo\n",
    "length(uu)               %tiene un largo de 3\n",
    "ones(length(uu), 1)      %genera una matriz del largo de uu, con 1 columna\n",
    "uu + ones(length(uu), 1) %suma 1 a cada elemento\n",
    "\n",
    "uu + 1 %forma mas simple"
   ]
  },
  {
   "cell_type": "code",
   "execution_count": 63,
   "metadata": {
    "collapsed": true
   },
   "outputs": [
    {
     "name": "stdout",
     "output_type": "stream",
     "text": [
      "\n",
      "A =\n",
      "\n",
      "     1    10   100\n",
      "     3    11   101\n",
      "     5    12   102\n",
      "\n",
      "\n",
      "ans =\n",
      "\n",
      "     1     3     5\n",
      "    10    11    12\n",
      "   100   101   102\n",
      "\n",
      "\n"
     ]
    }
   ],
   "source": [
    "A  %Matriz original\n",
    "A' %traspuesta de una matriz"
   ]
  },
  {
   "cell_type": "code",
   "execution_count": 69,
   "metadata": {
    "collapsed": true
   },
   "outputs": [
    {
     "name": "stdout",
     "output_type": "stream",
     "text": [
      "\n",
      "val =\n",
      "\n",
      "     8\n",
      "\n",
      "\n",
      "val =\n",
      "\n",
      "     8\n",
      "\n",
      "\n",
      "ind =\n",
      "\n",
      "     3\n",
      "\n",
      "\n",
      "ans =\n",
      "\n",
      "     5    12   102   102   202\n",
      "\n",
      "\n"
     ]
    }
   ],
   "source": [
    "val = max(uu)  %entrega el valor máximo del vector\n",
    "[val, ind] = max(uu) %muestra dos resultados, el valor maximo y el indice de qué columna pertenece\n",
    "max(A)  %entrega la fila de la matriz con los valores máximos"
   ]
  },
  {
   "cell_type": "code",
   "execution_count": 72,
   "metadata": {
    "collapsed": true
   },
   "outputs": [
    {
     "name": "stdout",
     "output_type": "stream",
     "text": [
      "\n",
      "ans =\n",
      "\n",
      "  3x1 logical array\n",
      "\n",
      "   1\n",
      "   0\n",
      "   0\n",
      "\n",
      "\n",
      "ans =\n",
      "\n",
      "     1\n",
      "\n",
      "\n"
     ]
    }
   ],
   "source": [
    "uu < 3 %verifica si cada elemento cumple la condición. 1 verdadero, 0 falso\n",
    "find(uu < 3) %indica en qué fila está el valor que cumple la condición, en este caso, primera columna"
   ]
  },
  {
   "cell_type": "code",
   "execution_count": 75,
   "metadata": {
    "collapsed": true
   },
   "outputs": [
    {
     "name": "stdout",
     "output_type": "stream",
     "text": [
      "\n",
      "ans =\n",
      "\n",
      "    14\n",
      "\n",
      "\n",
      "ans =\n",
      "\n",
      "    64\n",
      "\n",
      "\n"
     ]
    }
   ],
   "source": [
    "sum(uu)  %suma de cada elemento del vector\n",
    "prod(uu) %multiplicación de cada elemento del vector"
   ]
  },
  {
   "cell_type": "markdown",
   "metadata": {},
   "source": [
    "Redondeo de los decimales:"
   ]
  },
  {
   "cell_type": "code",
   "execution_count": 80,
   "metadata": {
    "collapsed": true
   },
   "outputs": [
    {
     "name": "stdout",
     "output_type": "stream",
     "text": [
      "\n",
      "z =\n",
      "\n",
      "    1.5000    2.3000    3.2000    0.7000\n",
      "\n",
      "\n",
      "ans =\n",
      "\n",
      "     1     2     3     0\n",
      "\n",
      "\n",
      "ans =\n",
      "\n",
      "     2     3     4     1\n",
      "\n",
      "\n"
     ]
    }
   ],
   "source": [
    "z= [1.5 2.3 3.2 0.7]\n",
    "floor(z)   %redondea hacia abajo\n",
    "ceil(z) %redondea hacia arriba"
   ]
  },
  {
   "cell_type": "markdown",
   "metadata": {},
   "source": [
    "### Cuadrados mágicos"
   ]
  },
  {
   "cell_type": "code",
   "execution_count": 82,
   "metadata": {
    "collapsed": true
   },
   "outputs": [
    {
     "name": "stdout",
     "output_type": "stream",
     "text": [
      "\n",
      "M =\n",
      "\n",
      "     8     1     6\n",
      "     3     5     7\n",
      "     4     9     2\n",
      "\n",
      "\n"
     ]
    }
   ],
   "source": [
    "M = magic(3) %Genera una matriz aleatoria con la propiedad que cada fila, columna y diagonal suma lo mismo"
   ]
  },
  {
   "cell_type": "markdown",
   "metadata": {},
   "source": [
    "### Mínimos y máximos"
   ]
  },
  {
   "cell_type": "code",
   "execution_count": 84,
   "metadata": {
    "collapsed": true
   },
   "outputs": [
    {
     "name": "stdout",
     "output_type": "stream",
     "text": [
      "\n",
      "ans =\n",
      "\n",
      "     8     9     7\n",
      "\n",
      "\n",
      "ans =\n",
      "\n",
      "     8\n",
      "     7\n",
      "     9\n",
      "\n",
      "\n",
      "ans =\n",
      "\n",
      "     9\n",
      "\n",
      "\n"
     ]
    }
   ],
   "source": [
    "max(M, [], 1)  %entrega el valor máximo de cada columna\n",
    "max(M, [], 2)  %entrega el valor máximo de cada fila\n",
    "max(max(M))    %entrega el valor máximo total"
   ]
  },
  {
   "cell_type": "code",
   "execution_count": 90,
   "metadata": {
    "collapsed": true
   },
   "outputs": [
    {
     "name": "stdout",
     "output_type": "stream",
     "text": [
      "\n",
      "Mm =\n",
      "\n",
      "    47    58    69    80     1    12    23    34    45\n",
      "    57    68    79     9    11    22    33    44    46\n",
      "    67    78     8    10    21    32    43    54    56\n",
      "    77     7    18    20    31    42    53    55    66\n",
      "     6    17    19    30    41    52    63    65    76\n",
      "    16    27    29    40    51    62    64    75     5\n",
      "    26    28    39    50    61    72    74     4    15\n",
      "    36    38    49    60    71    73     3    14    25\n",
      "    37    48    59    70    81     2    13    24    35\n",
      "\n",
      "\n",
      "ans =\n",
      "\n",
      "   369   369   369   369   369   369   369   369   369\n",
      "\n",
      "\n",
      "ans =\n",
      "\n",
      "   369\n",
      "   369\n",
      "   369\n",
      "   369\n",
      "   369\n",
      "   369\n",
      "   369\n",
      "   369\n",
      "   369\n",
      "\n",
      "\n"
     ]
    }
   ],
   "source": [
    "Mm= magic(9) %Hacemos una matriz de 9x9\n",
    "sum(Mm, 1)   %Sumamos cada columna\n",
    "sum(Mm, 2)   %Sumamos cada fila\n"
   ]
  },
  {
   "cell_type": "markdown",
   "metadata": {},
   "source": [
    "### Suma de diagonales"
   ]
  },
  {
   "cell_type": "code",
   "execution_count": 91,
   "metadata": {
    "collapsed": true
   },
   "outputs": [
    {
     "name": "stdout",
     "output_type": "stream",
     "text": [
      "\n",
      "ans =\n",
      "\n",
      "     1     0     0     0     0     0     0     0     0\n",
      "     0     1     0     0     0     0     0     0     0\n",
      "     0     0     1     0     0     0     0     0     0\n",
      "     0     0     0     1     0     0     0     0     0\n",
      "     0     0     0     0     1     0     0     0     0\n",
      "     0     0     0     0     0     1     0     0     0\n",
      "     0     0     0     0     0     0     1     0     0\n",
      "     0     0     0     0     0     0     0     1     0\n",
      "     0     0     0     0     0     0     0     0     1\n",
      "\n",
      "\n",
      "ans =\n",
      "\n",
      "    47     0     0     0     0     0     0     0     0\n",
      "     0    68     0     0     0     0     0     0     0\n",
      "     0     0     8     0     0     0     0     0     0\n",
      "     0     0     0    20     0     0     0     0     0\n",
      "     0     0     0     0    41     0     0     0     0\n",
      "     0     0     0     0     0    62     0     0     0\n",
      "     0     0     0     0     0     0    74     0     0\n",
      "     0     0     0     0     0     0     0    14     0\n",
      "     0     0     0     0     0     0     0     0    35\n",
      "\n",
      "\n",
      "ans =\n",
      "\n",
      "   369\n",
      "\n",
      "\n"
     ]
    }
   ],
   "source": [
    "eye(9)        %Creamos una matriz diagonal de 9x9\n",
    "Mm .* eye(9)  %Dejamos solo las diagonales de Mm\n",
    "sum(sum(Mm .* eye(9))) %Total de la diagonal"
   ]
  },
  {
   "cell_type": "markdown",
   "metadata": {},
   "source": [
    "### Pseudo inversa"
   ]
  },
  {
   "cell_type": "code",
   "execution_count": 94,
   "metadata": {
    "collapsed": true
   },
   "outputs": [
    {
     "name": "stdout",
     "output_type": "stream",
     "text": [
      "\n",
      "N =\n",
      "\n",
      "     8     1     6\n",
      "     3     5     7\n",
      "     4     9     2\n",
      "\n",
      "\n",
      "temp =\n",
      "\n",
      "    0.1472   -0.1444    0.0639\n",
      "   -0.0611    0.0222    0.1056\n",
      "   -0.0194    0.1889   -0.1028\n",
      "\n",
      "\n",
      "ans =\n",
      "\n",
      "    1.0000    0.0000   -0.0000\n",
      "   -0.0000    1.0000    0.0000\n",
      "    0.0000   -0.0000    1.0000\n",
      "\n",
      "\n"
     ]
    }
   ],
   "source": [
    "N = magic(3)      % Genero una matriz de 3x3\n",
    "temp = pinv(N)    % Aplico la pseudo inversa\n",
    "temp * N          % Matriz identidad (de ceros y unos en diagonal)"
   ]
  },
  {
   "cell_type": "markdown",
   "metadata": {},
   "source": [
    "## Gráficos"
   ]
  },
  {
   "cell_type": "code",
   "execution_count": 2,
   "metadata": {
    "collapsed": true
   },
   "outputs": [
    {
     "name": "stdout",
     "output_type": "stream",
     "text": [
      "\n"
     ]
    },
    {
     "data": {
      "image/png": "[encoded data removed]",
      "text/plain": [
       "<IPython.core.display.Image object>"
      ]
     },
     "metadata": {},
     "output_type": "display_data"
    }
   ],
   "source": [
    "t = [0: 0.01: 0.98];  %Creamos números del 0 al 0.98\n",
    "y1 = sin(2*pi*4*t);\n",
    "plot(t, y1);"
   ]
  },
  {
   "cell_type": "code",
   "execution_count": 3,
   "metadata": {
    "collapsed": true
   },
   "outputs": [
    {
     "name": "stdout",
     "output_type": "stream",
     "text": [
      "\n"
     ]
    },
    {
     "data": {
      "image/png": "[encoded data removed]",
      "text/plain": [
       "<IPython.core.display.Image object>"
      ]
     },
     "metadata": {},
     "output_type": "display_data"
    }
   ],
   "source": [
    "y2 = cos(2*pi*4*t);  %Función coseno\n",
    "plot(t, y2);"
   ]
  },
  {
   "cell_type": "code",
   "execution_count": 4,
   "metadata": {
    "collapsed": true
   },
   "outputs": [
    {
     "name": "stdout",
     "output_type": "stream",
     "text": [
      "\n"
     ]
    },
    {
     "data": {
      "image/png": "[encoded data removed]",
      "text/plain": [
       "<IPython.core.display.Image object>"
      ]
     },
     "metadata": {},
     "output_type": "display_data"
    }
   ],
   "source": [
    "%Para mantener el primer gráfico y unirlo con el segundo\n",
    "plot(t, y1);\n",
    "hold on;      %dejo activo el gráfico\n",
    "plot(t, y2);  %inserto el segundo gráfico en rojo\n",
    "xlabel('tiempo')  %agrego etiqueta en eje x\n",
    "ylabel('valor')   %agrego etiqueta en eje y\n",
    "legend('sin', 'cos')\n",
    "title('Gráfico de Seno y Coseno')\n",
    "%cd 'Escritorio'; print -dpng 'myPlot.png'  %para exportar imagen\n",
    "%close %lo borro\n"
   ]
  },
  {
   "cell_type": "markdown",
   "metadata": {},
   "source": [
    "#### Creamos dos gráficos en vez de uno"
   ]
  },
  {
   "cell_type": "code",
   "execution_count": 6,
   "metadata": {
    "collapsed": true
   },
   "outputs": [
    {
     "name": "stdout",
     "output_type": "stream",
     "text": [
      "\n"
     ]
    },
    {
     "data": {
      "image/png": "[encoded data removed]",
      "text/plain": [
       "<IPython.core.display.Image object>"
      ]
     },
     "metadata": {},
     "output_type": "display_data"
    }
   ],
   "source": [
    "subplot(1,2,1);     %divide en una malla 1x2, colocamos el primer elemento\n",
    "plot(t,y1);         %indicamos el primer elemento\n",
    "subplot(1,2,2);\n",
    "plot(t,y2);         %indicamos el segundo elemento\n",
    "axis([0.5 1 -1 1]) %eje x de 0.5 a 1, eje y de -1 a 1"
   ]
  },
  {
   "cell_type": "code",
   "execution_count": 10,
   "metadata": {
    "collapsed": true
   },
   "outputs": [
    {
     "name": "stdout",
     "output_type": "stream",
     "text": [
      "\n",
      "P =\n",
      "\n",
      "    17    24     1     8    15\n",
      "    23     5     7    14    16\n",
      "     4     6    13    20    22\n",
      "    10    12    19    21     3\n",
      "    11    18    25     2     9\n",
      "\n",
      "\n"
     ]
    },
    {
     "data": {
      "image/png": "[encoded data removed]",
      "text/plain": [
       "<IPython.core.display.Image object>"
      ]
     },
     "metadata": {},
     "output_type": "display_data"
    }
   ],
   "source": [
    "clf;           %limpiar gráfico\n",
    "P = magic(5)   %Hacemos una matriz mágica\n",
    "imagesc(P)\n",
    "imagesc(P), colorbar, colormap gray;"
   ]
  },
  {
   "cell_type": "markdown",
   "metadata": {},
   "source": [
    "## Control statements: for, while, if"
   ]
  },
  {
   "cell_type": "markdown",
   "metadata": {},
   "source": [
    "**Ejemplo 1**: Primero creamos un vector al cual se le dará la instrucción de elevar cada término por su propio exponente."
   ]
  },
  {
   "cell_type": "code",
   "execution_count": 24,
   "metadata": {
    "collapsed": true
   },
   "outputs": [
    {
     "name": "stdout",
     "output_type": "stream",
     "text": [
      "\n",
      "b =\n",
      "\n",
      "     0\n",
      "     0\n",
      "     0\n",
      "     0\n",
      "     0\n",
      "     0\n",
      "     0\n",
      "     0\n",
      "     0\n",
      "     0\n",
      "\n",
      "\n",
      "b =\n",
      "\n",
      "           2\n",
      "           4\n",
      "           8\n",
      "          16\n",
      "          32\n",
      "          64\n",
      "         128\n",
      "         256\n",
      "         512\n",
      "        1024\n",
      "\n",
      "\n"
     ]
    }
   ],
   "source": [
    "b = zeros(10,1)  %creamos un vector de 10 filas con 1 columna\n",
    "\n",
    "for i = 1:10;\n",
    "    b(i) = 2^i;\n",
    "end;\n",
    "\n",
    "b               %revisamos"
   ]
  },
  {
   "cell_type": "markdown",
   "metadata": {},
   "source": [
    "**Ejemplo 2**: Cada i va del 1 al 10. Cuando llega al exponente 5 (2^5=32) hará que el elemento sea igual a 100."
   ]
  },
  {
   "cell_type": "code",
   "execution_count": 1,
   "metadata": {
    "collapsed": true
   },
   "outputs": [
    {
     "name": "stdout",
     "output_type": "stream",
     "text": [
      "\n",
      "b =\n",
      "\n",
      "   100   100   100   100   100\n",
      "\n",
      "\n"
     ]
    }
   ],
   "source": [
    "i = 1;                %Punto de inicio\n",
    "while i <= 5,         %todos los elementos menores o igual a 5\n",
    "    b(i) = 100;       %igualar a 100\n",
    "    i = i + 1;      %avanza cada elemento\n",
    "end;\n",
    "\n",
    "b                     %revisamos"
   ]
  },
  {
   "cell_type": "markdown",
   "metadata": {},
   "source": [
    "**Ejemplo 3**: "
   ]
  },
  {
   "cell_type": "code",
   "execution_count": 2,
   "metadata": {
    "collapsed": true
   },
   "outputs": [
    {
     "name": "stdout",
     "output_type": "stream",
     "text": [
      "\n",
      "b =\n",
      "\n",
      "   999   999   999   999   999\n",
      "\n",
      "\n"
     ]
    }
   ],
   "source": [
    "i = 1;\n",
    "while true,\n",
    "   b(i) = 999;\n",
    "   i = i + 1;\n",
    "   if i == 6,\n",
    "     break;\n",
    "   end;\n",
    "end;\n",
    "\n",
    "b"
   ]
  },
  {
   "cell_type": "code",
   "execution_count": 10,
   "metadata": {},
   "outputs": [
    {
     "name": "stdout",
     "output_type": "stream",
     "text": [
      "El valor es dos\n",
      "\n"
     ]
    }
   ],
   "source": [
    "b(1) = 2;\n",
    "if b(1) == 1,\n",
    "    disp('El valor es uno');\n",
    "elseif b(1) == 2,\n",
    "    disp('El valor es dos');\n",
    "else\n",
    "    disp('El valor no es uno ni dos');\n",
    "end;\n"
   ]
  }
 ],
 "metadata": {
  "kernelspec": {
   "display_name": "Matlab",
   "language": "matlab",
   "name": "matlab"
  },
  "language_info": {
   "codemirror_mode": "octave",
   "file_extension": ".m",
   "help_links": [
    {
     "text": "MetaKernel Magics",
     "url": "https://metakernel.readthedocs.io/en/latest/source/README.html"
    }
   ],
   "mimetype": "text/x-octave",
   "name": "matlab",
   "version": "0.16.9"
  }
 },
 "nbformat": 4,
 "nbformat_minor": 4
}
